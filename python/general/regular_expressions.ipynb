{
 "cells": [
  {
   "cell_type": "markdown",
   "metadata": {},
   "source": [
    "# Regular expressions\n",
    "\n",
    "## 1. Symbols\n",
    "\n",
    "### 1.1 Metacaracters\n"
   ]
  },
  {
   "cell_type": "raw",
   "metadata": {},
   "source": [
    "*     Zero or more occurences\n",
    "+     One or more occurences\n",
    "{n}   Exactly n number of occurences\n",
    "\n",
    "^     Starts with\n",
    "*     Ends with\n",
    "\n",
    "[]    A set of characters\n",
    "a|b   Either a or b\n",
    "\n",
    "\\     Signal of special sequences\n",
    "\n",
    "()    Just for selecting specific sequence of symbols"
   ]
  },
  {
   "cell_type": "markdown",
   "metadata": {},
   "source": [
    "### 1.2 Special sequences"
   ]
  },
  {
   "cell_type": "raw",
   "metadata": {},
   "source": [
    "\\A \tReturns a match if the specified characters are at the beginning of the string\n",
    "\\Z \tReturns a match if the specified characters are at the end of the string\n",
    "\n",
    "\\b \tReturns a match where the specified characters are at the beginning or at the end of a word\n",
    "\\B \tReturns a match where the specified characters are present, but NOT at the beginning (or at the end) of a word\n",
    "\n",
    "\\d \tReturns a match where the string contains digits (numbers from 0-9)\n",
    "\\D \tReturns a match where the string DOES NOT contain digits\n",
    "\n",
    "\\s \tReturns a match where the string contains a white space character\n",
    "\\S \tReturns a match where the string DOES NOT contain a white space character\n",
    "\n",
    "\\w \tReturns a match where the string contains any word characters (characters from a to Z, digits from 0-9, and the underscore _ character)\n",
    "\\W \tReturns a match where the string DOES NOT contain any word characters\n",
    "\n",
    "\\s \tReturns a match where the string contains a white space character"
   ]
  },
  {
   "cell_type": "markdown",
   "metadata": {},
   "source": [
    "### 1.3 Sets"
   ]
  },
  {
   "cell_type": "raw",
   "metadata": {},
   "source": [
    "[arn] \t    Returns a match where one of the specified characters (a, r, or n) are present\n",
    "[a-n] \t    Returns a match for any lower case character, alphabetically between a and n\n",
    "[^arn]   \tReturns a match for any character EXCEPT a, r, and n\n",
    "[0123]   \tReturns a match where any of the specified digits (0, 1, 2, or 3) are present\n",
    "[0-9] \t    Returns a match for any digit between 0 and 9\n",
    "[0-5][0-9] \tReturns a match for any two-digit numbers from 00 and 59\n",
    "[a-zA-Z] \tReturns a match for any character alphabetically between a and z, lower case OR upper case\n",
    "[+] \t    In sets, +, *, ., |, (), $,{} has no special meaning, so [+] means: return a match for any + character in the string"
   ]
  },
  {
   "cell_type": "markdown",
   "metadata": {},
   "source": [
    "## 2. Functions"
   ]
  },
  {
   "cell_type": "markdown",
   "metadata": {},
   "source": [
    "* The `findall()` function returns a list containing all matches.\n",
    "* The `match()` function returns the matches\n",
    "* The `split()` function splits the text and returns a list.\n",
    "* The `search()` function searches the string for a match, and returns a Match object if there is a match.\n",
    "* The `sub()` function replaces the matches with the text of your choice."
   ]
  },
  {
   "cell_type": "code",
   "execution_count": null,
   "metadata": {},
   "outputs": [],
   "source": []
  }
 ],
 "metadata": {
  "kernelspec": {
   "display_name": "Python 3",
   "language": "python",
   "name": "python3"
  },
  "language_info": {
   "codemirror_mode": {
    "name": "ipython",
    "version": 3
   },
   "file_extension": ".py",
   "mimetype": "text/x-python",
   "name": "python",
   "nbconvert_exporter": "python",
   "pygments_lexer": "ipython3",
   "version": "3.7.3"
  }
 },
 "nbformat": 4,
 "nbformat_minor": 2
}
